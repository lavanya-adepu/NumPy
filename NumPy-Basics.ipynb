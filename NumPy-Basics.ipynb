{
 "cells": [
  {
   "cell_type": "markdown",
   "id": "7023ffb0",
   "metadata": {},
   "source": [
    "# Numpy\n",
    "\n",
    "=> it is a python library which is used for operating and performing mathematical functions on large and multi dimentional Arrays\n",
    "=> it will store only Homogenius data \n",
    "\n",
    "\n",
    "Key Features of NumPy:\n",
    "\n",
    "    Efficient array operations\n",
    "    Broadcasting (perform operations on arrays of different shapes)\n",
    "    Mathematical functions (linear algebra, statistics, etc.)\n",
    "    Memory-efficient(as it will not store the datatype)\n",
    "    Integration with other libraries (Pandas, Matplotlib, Scikit-learn, etc.)\n",
    "    \n",
    "\n"
   ]
  },
  {
   "cell_type": "markdown",
   "id": "4f8d7712",
   "metadata": {},
   "source": [
    "# Creation of 1D and 2D Arrays in NumPy\n",
    "\n",
    "\n",
    "There are multiple ways to create 1D and 2D NumPy arrays:\n",
    "\n",
    "   --> np.array() → Standard method\n",
    "   --> np.arange() → Sequences\n",
    "   --> np.linspace() → Evenly spaced values\n",
    "   --> np.zeros(), np.ones(), np.full() → Constant values\n",
    "   --> np.eye() → Identity matrix\n",
    "   --> np.random → Random numbers\n",
    "   --> np.fromfunction() → Function-based arrays"
   ]
  },
  {
   "cell_type": "code",
   "execution_count": 40,
   "id": "a8958c8a",
   "metadata": {},
   "outputs": [],
   "source": [
    "import numpy as np\n",
    "\n",
    "arr1=np.array([1,2,3,4])\n",
    "\n",
    "arr2=np.array([[1,2,3],[4,5,6]])\n",
    "\n",
    "arr1=np.arange(1,6) #generates 1 to n-1\n",
    "arr1=np.arange(2,10,2) #even numbers 2 to 10 size 2(increment)\n",
    "\n",
    "arr2=np.arange(1,7).reshape(2,3)\n",
    "\n",
    "arr1=np.linspace(0,10,5) #generates 5 random numbers between 0 to 10 including both 0 and 10\n",
    "\n",
    "arr2=np.linspace(1,6,6).reshape(2,3)\n",
    "\n",
    "arr1=np.zeros(4)\n",
    "arr2=np.ones(4)\n",
    "\n",
    "arr1=np.zeros((2,3))\n",
    "arr2=np.ones((2,3))\n",
    "\n",
    "arr1=np.eye(3) #generates identity matric\n",
    "\n",
    "\n",
    "arr1=np.full(4,5)\n",
    "arr2=np.full((2,3),7)\n",
    "\n",
    "arr1=np.random.rand(5)\n",
    "arr2=np.random.rand(2,3)\n",
    "\n",
    "arr1=np.random.randint(1,10,5)\n",
    "arr2=np.random.randint(1,10,(2,3))\n",
    "\n",
    "def func(i,j):   #here i and j indicates row and column respectively \n",
    "    return i+j   # i,j goes from 0 to n-1 \n",
    "arr1=np.fromfunction(func,(3,3))\n",
    "#print(arr1)\n",
    "#print(arr2)"
   ]
  },
  {
   "cell_type": "markdown",
   "id": "85eab83c",
   "metadata": {},
   "source": [
    "# creation of 3D arrays\n",
    "=> same above all methods can be used"
   ]
  },
  {
   "cell_type": "code",
   "execution_count": 38,
   "id": "c3967a37",
   "metadata": {},
   "outputs": [],
   "source": [
    "arr1=np.array([\n",
    "[[1,2,3],[3,4,5]],\n",
    "    [[4,5,6],[5,6,7]]\n",
    "]\n",
    ")\n",
    "\n",
    "arr1=np.arange(1,25).reshape((2,3,4)) #2 layers(depth),3 = rows and 4 = columns\n",
    "arr1=np.ones((2,3,2))\n",
    "#print(arr1)"
   ]
  },
  {
   "cell_type": "markdown",
   "id": "1acd5855",
   "metadata": {},
   "source": [
    "# Properties of Arrays"
   ]
  },
  {
   "cell_type": "code",
   "execution_count": 67,
   "id": "57db6a85",
   "metadata": {},
   "outputs": [
    {
     "name": "stdout",
     "output_type": "stream",
     "text": [
      "1 6 21\n"
     ]
    }
   ],
   "source": [
    "arr1=np.array([1,2,3,4]) # it print \",\" to indicate as it is a tuple\n",
    "arr2=np.array([[1,2,3],[3,4,5]])\n",
    "#print(arr2.shape)\n",
    "\n",
    "arr1 = np.array([1, 2, 3])  # 1D array\n",
    "arr2 = np.array([[1, 2, 3], [4, 5, 6]])  # 2D array\n",
    "arr3 = np.array([[[1, 2], [3, 4]], [[5, 6], [7, 8]]])  # 3D array\n",
    "\n",
    "#print(arr1.ndim,arr2.ndim,arr3.ndim)\n",
    "#print(arr2.size) #output 6 (2x3)\n",
    "\n",
    "arr1 = np.array([1, 2, 3])  # Integer array\n",
    "arr2 = np.array([1.2, 3.4, 5.6])  # Float array\n",
    "arr3 = np.array(['a', 'b', 'c'])  # String array\n",
    "\n",
    "#print(arr1.dtype)\n",
    "arr = np.array([1, 2, 3], dtype=np.int32) #as int 32 takes 4 bytes\n",
    "#print(arr2.itemsize)\n",
    "\n",
    "arr2 = np.array([[1, 2, 3], [4, 5, 6]])\n",
    "#print(arr2.T)\n",
    "#print(arr2.ravel()) #effect the original arr\n",
    "#print(arr2.flatten()) # not effect the original array\n",
    "\n",
    "print(arr2.min(),arr2.max(),arr2.sum())"
   ]
  },
  {
   "cell_type": "markdown",
   "id": "c261a3f8",
   "metadata": {},
   "source": [
    "# Operations on Arrays\n",
    "\n",
    "=> Arithmetic Operations\n",
    "=> Comparison Operations\n",
    "=> Logical Operations\n",
    "=> Aggregate Functions\n",
    "=> Matrix Operations\n",
    "=> Reshaping and Flattening\n",
    "=> Stacking and Splitting\n",
    "=> Copying vs. View"
   ]
  },
  {
   "cell_type": "code",
   "execution_count": 75,
   "id": "df6befb8",
   "metadata": {},
   "outputs": [
    {
     "name": "stdout",
     "output_type": "stream",
     "text": [
      "[2 4 6]\n",
      "[6 7 8]\n",
      "[ True  True  True]\n",
      "(array([1, 2], dtype=int64),)\n",
      "[False False  True False]\n"
     ]
    }
   ],
   "source": [
    "##Arithmetic\n",
    "a1=np.array([1,2,3])\n",
    "a2=np.array([1,2,3])\n",
    "print(a1+a2) # simillarly - , * , / , **\n",
    "print(a1+5) #adds 5 for each element in a1 array\n",
    "\n",
    "###Comparision\n",
    "print(a1==a2) # checks each element of a1 respectively with its a2 element\n",
    "print(np.where(a1>1)) # returns the indies of the elements\n",
    "\n",
    "##Logical\n",
    "bool_arr1 = np.array([True, False, True, False])\n",
    "bool_arr2 = np.array([False, False, True, True])\n",
    "print(np.logical_and(bool_arr1,bool_arr2)) #Simillarly or and not for one array"
   ]
  },
  {
   "cell_type": "code",
   "execution_count": 88,
   "id": "f7f4eabe",
   "metadata": {},
   "outputs": [
    {
     "name": "stdout",
     "output_type": "stream",
     "text": [
      "Sum: 21\n",
      "Column-wise Sum: [5 7 9]\n",
      "Row-wise Sum: [ 6 15]\n",
      "Mean: 3.5\n",
      "Median: 3.5\n",
      "Standard Deviation: 1.707825127659933\n",
      "Max Value: 6\n",
      "Min Value: 1\n",
      "Index of max: 5\n"
     ]
    }
   ],
   "source": [
    "#Aggregate Functions\n",
    "arr = np.array([[1, 2, 3], [4, 5, 6]])\n",
    "\n",
    "print(\"Sum:\", arr.sum())  \n",
    "print(\"Column-wise Sum:\", arr.sum(axis=0))  # [5 7 9]\n",
    "print(\"Row-wise Sum:\", arr.sum(axis=1))  # [6 15]\n",
    "\n",
    "print(\"Mean:\", arr.mean())  # 3.5\n",
    "print(\"Median:\", np.median(arr))  # 3.5\n",
    "print(\"Standard Deviation:\", arr.std())  # 1.7078\n",
    "\n",
    "print(\"Max Value:\", arr.max())  # 6\n",
    "print(\"Min Value:\", arr.min())  # 1\n",
    "\n",
    "print(\"Index of max:\",arr.argmax()) #index in flatten array"
   ]
  },
  {
   "cell_type": "code",
   "execution_count": 82,
   "id": "febc847f",
   "metadata": {},
   "outputs": [
    {
     "name": "stdout",
     "output_type": "stream",
     "text": [
      "[[19 22]\n",
      " [43 50]]\n",
      "[[-2.   1. ]\n",
      " [ 1.5 -0.5]]\n",
      "-2.0000000000000004\n"
     ]
    }
   ],
   "source": [
    "#Matrix operations\n",
    "# 1.Dot product\n",
    "a1=np.array([[1,2],[3,4]])\n",
    "a2=np.array([[5,6],[7,8]])\n",
    "print(np.dot(a1,a2)) #Matrix multiplication\n",
    "#2.Transpose\n",
    "#3.inverse\n",
    "print(np.linalg.inv(a1))\n",
    "#4.Determinant\n",
    "print(np.linalg.det(a1))"
   ]
  },
  {
   "cell_type": "code",
   "execution_count": 84,
   "id": "e3fa707b",
   "metadata": {},
   "outputs": [
    {
     "name": "stdout",
     "output_type": "stream",
     "text": [
      "Vertical Stack:\n",
      " [[1 2 3]\n",
      " [4 5 6]]\n",
      "Horizontal Stack:\n",
      " [1 2 3 4 5 6]\n",
      "Split into 3 parts: [array([1, 2]), array([3, 4]), array([5, 6])]\n"
     ]
    }
   ],
   "source": [
    "#Stacking\n",
    "arr1 = np.array([1, 2, 3])\n",
    "arr2 = np.array([4, 5, 6])\n",
    "\n",
    "print(\"Vertical Stack:\\n\", np.vstack((arr1, arr2)))\n",
    "print(\"Horizontal Stack:\\n\", np.hstack((arr1, arr2)))\n",
    "\n",
    "#Splitting\n",
    "arr = np.array([1, 2, 3, 4, 5, 6])\n",
    "print(\"Split into 3 parts:\", np.split(arr, 3))"
   ]
  },
  {
   "cell_type": "code",
   "execution_count": 85,
   "id": "093bf1b7",
   "metadata": {},
   "outputs": [
    {
     "name": "stdout",
     "output_type": "stream",
     "text": [
      "Original: [100   2   3]\n",
      "Copy: [1 2 3]\n"
     ]
    }
   ],
   "source": [
    "#Copying vs. View\n",
    "\n",
    "arr = np.array([1, 2, 3])\n",
    "view_arr = arr.view()\n",
    "copy_arr = arr.copy()\n",
    "\n",
    "view_arr[0] = 100\n",
    "print(\"Original:\", arr)  # [100 2 3] (Changed because it's a view)\n",
    "print(\"Copy:\", copy_arr)  # [1 2 3] (Unchanged)\n"
   ]
  },
  {
   "cell_type": "markdown",
   "id": "60e46595",
   "metadata": {},
   "source": [
    "### Accessing is simillar by index and slicing\n",
    "Fancy indexing means selecting required indices from the array and storing in one variable directly accesing it in array\n",
    "\n",
    "# Universal Functions :\n",
    "=> Arthimetic functions\n",
    "=> trignometric functions \n",
    "=> Exponential and Logarithmic Functions\n",
    "=> Rounding Functions\n",
    "=> Statistical & Aggregation Functions\n",
    "=> Comparison & Logical Functions\n",
    "=> Sorting & Searching Functions\n",
    "=> Unique & Counting Functions"
   ]
  },
  {
   "cell_type": "code",
   "execution_count": 89,
   "id": "33552a50",
   "metadata": {},
   "outputs": [
    {
     "name": "stdout",
     "output_type": "stream",
     "text": [
      "Sine: [ 0.0000000e+00  1.0000000e+00  1.2246468e-16 -1.0000000e+00]\n",
      "Cosine: [ 1.0000000e+00  6.1232340e-17 -1.0000000e+00 -1.8369702e-16]\n",
      "Tangent: [ 0.00000000e+00  1.63312394e+16 -1.22464680e-16  5.44374645e+15]\n",
      "Radians to Degrees: 180.0\n",
      "Degrees to Radians: 3.141592653589793\n"
     ]
    }
   ],
   "source": [
    "#Trignometric\n",
    "angles = np.array([0, np.pi/2, np.pi, 3*np.pi/2])\n",
    "\n",
    "print(\"Sine:\", np.sin(angles))  \n",
    "print(\"Cosine:\", np.cos(angles))  \n",
    "print(\"Tangent:\", np.tan(angles))  \n",
    "print(\"Radians to Degrees:\", np.degrees(np.pi))  \n",
    "print(\"Degrees to Radians:\", np.radians(180))  "
   ]
  },
  {
   "cell_type": "code",
   "execution_count": 90,
   "id": "effbd121",
   "metadata": {},
   "outputs": [
    {
     "name": "stdout",
     "output_type": "stream",
     "text": [
      "Exponential (e^x): [ 2.71828183  7.3890561  20.08553692 54.59815003]\n",
      "Log (Natural log): [0.         0.69314718 1.09861229 1.38629436]\n",
      "Log base 2: [0.        1.        1.5849625 2.       ]\n",
      "Log base 10: [0.         0.30103    0.47712125 0.60205999]\n"
     ]
    }
   ],
   "source": [
    "#Exponential and logrithemic\n",
    "\n",
    "arr = np.array([1, 2, 3, 4])\n",
    "\n",
    "print(\"Exponential (e^x):\", np.exp(arr))  \n",
    "print(\"Log (Natural log):\", np.log(arr))  \n",
    "print(\"Log base 2:\", np.log2(arr))  \n",
    "print(\"Log base 10:\", np.log10(arr))  \n"
   ]
  },
  {
   "cell_type": "code",
   "execution_count": 91,
   "id": "bf9d9677",
   "metadata": {},
   "outputs": [
    {
     "name": "stdout",
     "output_type": "stream",
     "text": [
      "Unique Values: [1 2 3 4]\n",
      "Counts: [1 2 3 1]\n"
     ]
    }
   ],
   "source": [
    "#Unique and Counting functions\n",
    "\n",
    "arr = np.array([1, 2, 2, 3, 3, 3, 4])\n",
    "unique_vals, counts = np.unique(arr, return_counts=True)\n",
    "\n",
    "print(\"Unique Values:\", unique_vals)  # [1 2 3 4]\n",
    "print(\"Counts:\", counts)  # [1 2 3 1]\n"
   ]
  },
  {
   "cell_type": "markdown",
   "id": "983a8e18",
   "metadata": {},
   "source": [
    "#### Joining Arrays in NumPy"
   ]
  },
  {
   "cell_type": "code",
   "execution_count": 92,
   "id": "e853e534",
   "metadata": {},
   "outputs": [
    {
     "name": "stdout",
     "output_type": "stream",
     "text": [
      "Joined along axis 0:\n",
      " [[1 2]\n",
      " [3 4]\n",
      " [5 6]\n",
      " [7 8]]\n",
      "Joined along axis 1:\n",
      " [[1 2 5 6]\n",
      " [3 4 7 8]]\n"
     ]
    }
   ],
   "source": [
    "\n",
    "arr1 = np.array([[1, 2], [3, 4]])\n",
    "arr2 = np.array([[5, 6], [7, 8]])\n",
    "\n",
    "# Join along axis 0 (rows)\n",
    "joined_0 = np.concatenate((arr1, arr2), axis=0)\n",
    "print(\"Joined along axis 0:\\n\", joined_0)\n",
    "\n",
    "# Join along axis 1 (columns)\n",
    "joined_1 = np.concatenate((arr1, arr2), axis=1)\n",
    "print(\"Joined along axis 1:\\n\", joined_1)\n",
    "#stack ,hstack and vstack also above mentioned"
   ]
  },
  {
   "cell_type": "markdown",
   "id": "7db26a10",
   "metadata": {},
   "source": [
    "### Swapaxes"
   ]
  },
  {
   "cell_type": "code",
   "execution_count": 96,
   "id": "c92895ba",
   "metadata": {},
   "outputs": [
    {
     "name": "stdout",
     "output_type": "stream",
     "text": [
      "Original Shape: (2, 2, 2)\n",
      "Swapped Shape: (2, 2, 2)\n"
     ]
    }
   ],
   "source": [
    "arr = np.array([[[1, 2], [3, 4]], [[5, 6], [7, 8]]])  # Shape (2,2,2)\n",
    "\n",
    "swapped = np.swapaxes(arr, 0, 1)  # Swap axis 0 and 1\n",
    "print(\"Original Shape:\", arr.shape)\n",
    "print(\"Swapped Shape:\", swapped.shape)"
   ]
  },
  {
   "cell_type": "markdown",
   "id": "2ea972df",
   "metadata": {},
   "source": [
    "### eigenvalues, eigenvectors"
   ]
  },
  {
   "cell_type": "code",
   "execution_count": 97,
   "id": "753c2b57",
   "metadata": {},
   "outputs": [
    {
     "name": "stdout",
     "output_type": "stream",
     "text": [
      "Eigenvalues: [3. 2.]\n",
      "Eigenvectors:\n",
      " [[0.89442719 0.70710678]\n",
      " [0.4472136  0.70710678]]\n"
     ]
    }
   ],
   "source": [
    "A = np.array([[4, -2], [1, 1]])\n",
    "\n",
    "eigenvalues, eigenvectors = np.linalg.eig(A)\n",
    "\n",
    "print(\"Eigenvalues:\", eigenvalues)\n",
    "print(\"Eigenvectors:\\n\", eigenvectors)"
   ]
  },
  {
   "cell_type": "code",
   "execution_count": null,
   "id": "77580547",
   "metadata": {},
   "outputs": [],
   "source": []
  }
 ],
 "metadata": {
  "kernelspec": {
   "display_name": "Python 3 (ipykernel)",
   "language": "python",
   "name": "python3"
  },
  "language_info": {
   "codemirror_mode": {
    "name": "ipython",
    "version": 3
   },
   "file_extension": ".py",
   "mimetype": "text/x-python",
   "name": "python",
   "nbconvert_exporter": "python",
   "pygments_lexer": "ipython3",
   "version": "3.9.7"
  }
 },
 "nbformat": 4,
 "nbformat_minor": 5
}
